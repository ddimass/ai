{
 "cells": [
  {
   "cell_type": "code",
   "execution_count": 1,
   "metadata": {},
   "outputs": [
    {
     "name": "stderr",
     "output_type": "stream",
     "text": [
      "Using TensorFlow backend.\n",
      "C:\\Users\\a.lunev\\Anaconda3\\envs\\ML_GPU\\lib\\site-packages\\sklearn\\externals\\joblib\\__init__.py:15: DeprecationWarning: sklearn.externals.joblib is deprecated in 0.21 and will be removed in 0.23. Please import this functionality directly from joblib, which can be installed with: pip install joblib. If this warning is raised when loading pickled models, you may need to re-serialize those models with scikit-learn 0.21+.\n",
      "  warnings.warn(msg, category=DeprecationWarning)\n"
     ]
    }
   ],
   "source": [
    "import os\n",
    "from keras.models import Sequential\n",
    "from keras import layers, regularizers, optimizers\n",
    "from keras.optimizers import RMSprop\n",
    "from keras.utils import to_categorical\n",
    "from keras.callbacks import ModelCheckpoint\n",
    "import requests\n",
    "import json\n",
    "import numpy as np\n",
    "import tensorflow as tf\n",
    "config = tf.ConfigProto()\n",
    "config.gpu_options.allow_growth = True\n",
    "session = tf.Session(config=config)\n",
    "from datetime import datetime\n",
    "from sklearn.preprocessing import MinMaxScaler\n",
    "from sklearn.externals import joblib\n",
    "from keras.preprocessing.sequence import TimeseriesGenerator"
   ]
  },
  {
   "cell_type": "code",
   "execution_count": 2,
   "metadata": {},
   "outputs": [],
   "source": [
    "#### Read from CSV\n",
    "my_data = np.genfromtxt('e:\\EURUSD-2000-2019.csv', delimiter=',', skip_header=1)\n",
    "#my_data = np.concatenate((bin_days, my_data), axis=1)\n",
    "my_data = np.delete(my_data, 1, 1)\n",
    "#for i, data in enumerate(my_data):\n",
    "#    my_data[i][0] = (datetime.strptime(str(data[0]), \"%Y%m%d.0\")).isoweekday()\n",
    "#my_data = my_data[np.logical_not(my_data[:,0] == 7)]\n",
    "#bin_days = to_categorical(my_data[:,0])\n",
    "my_data = np.delete(my_data, 0, 1)"
   ]
  },
  {
   "cell_type": "code",
   "execution_count": 3,
   "metadata": {},
   "outputs": [],
   "source": [
    "my_data[:,0] = my_data[:,1] - my_data[:,2]"
   ]
  },
  {
   "cell_type": "code",
   "execution_count": 4,
   "metadata": {},
   "outputs": [],
   "source": [
    "my_data = np.delete(my_data, 1, 1)\n",
    "my_data = np.delete(my_data, 1, 1)\n",
    "my_data = np.delete(my_data, 2, 1)"
   ]
  },
  {
   "cell_type": "code",
   "execution_count": 5,
   "metadata": {},
   "outputs": [
    {
     "data": {
      "text/plain": [
       "array([1.12292])"
      ]
     },
     "execution_count": 5,
     "metadata": {},
     "output_type": "execute_result"
    }
   ],
   "source": [
    "my_data = np.delete(my_data, 0, 1)\n",
    "my_data[0]"
   ]
  },
  {
   "cell_type": "code",
   "execution_count": 4,
   "metadata": {},
   "outputs": [],
   "source": [
    "#### Read from DB\n",
    "# auth_url = 'http://185.49.144.175/api/token/'\n",
    "# bar_url = 'http://185.49.144.175/api/bars/?timeframe=1'\n",
    "# headers = {'Content-type': 'application/json', 'Content-Encoding': 'utf-8'}\n",
    "# data = {\"username\": \"lim\",\"password\": \"Serialnomberr3\"}\n",
    "# answer = requests.post(auth_url, data=json.dumps(data), headers=headers)\n",
    "# response = answer.json()\n",
    "# token = response['access']\n",
    "# headers = {'Authorization': 'Bearer ' + token}\n",
    "# answer = requests.get(bar_url, headers=headers)\n",
    "# response = answer.json()\n",
    "# f_data = np.zeros((len(response), 6))\n",
    "# for i, bar in enumerate(response):\n",
    "#     date = datetime.strptime( bar['time'], \"%Y-%m-%dT%H:%M:%SZ\" )\n",
    "#     values = [date.isoweekday(), float(bar['open']), float(bar['close']), float(bar['high']), float(bar['low']), float(bar['tick_volume'])]\n",
    "#     f_data[i, :] = values\n",
    "# f_data = np.flip(f_data,0)\n",
    "# bin_days = to_categorical(f_data[:,0])\n",
    "# f_data = np.delete(f_data, 0, 1)\n",
    "# f_data = np.concatenate((bin_days, f_data), axis=1)"
   ]
  },
  {
   "cell_type": "code",
   "execution_count": 17,
   "metadata": {},
   "outputs": [],
   "source": [
    "# Normalize tick_volume\n",
    "#f_data = np.delete(my_data, 4, 1)\n",
    "# f_data = np.delete(f_data, 0, 1)\n",
    "# f_data = np.delete(f_data, 0, 1)\n",
    "# f_data = np.delete(f_data, 0, 1)\n",
    "f_data = my_data\n",
    "# for col in range(0,f_data.shape[-1]):\n",
    "#     min = f_data[:1500000, col].min(axis=0)\n",
    "#     max = f_data[:1500000, col].max(axis=0)\n",
    "#     f_data[:, col] = (f_data[:, col] - min) / (max - min)"
   ]
  },
  {
   "cell_type": "code",
   "execution_count": 10,
   "metadata": {},
   "outputs": [
    {
     "data": {
      "image/png": "[encoded data removed]",
      "text/plain": [
       "<Figure size 432x288 with 1 Axes>"
      ]
     },
     "metadata": {
      "needs_background": "light"
     },
     "output_type": "display_data"
    }
   ],
   "source": []
  },
  {
   "cell_type": "code",
   "execution_count": 8,
   "metadata": {},
   "outputs": [
    {
     "name": "stdout",
     "output_type": "stream",
     "text": [
      "[1.03435] [1.60305]\n"
     ]
    }
   ],
   "source": [
    "#Нормализация цены закрытия\n",
    "minx = min(my_data)\n",
    "maxx = max(my_data)\n",
    "print(minx, maxx)\n",
    "f_data = my_data\n",
    "f_data = (f_data - minx) / (maxx - minx)"
   ]
  },
  {
   "cell_type": "code",
   "execution_count": 11,
   "metadata": {},
   "outputs": [
    {
     "data": {
      "text/plain": [
       "array([1.12292])"
      ]
     },
     "execution_count": 11,
     "metadata": {},
     "output_type": "execute_result"
    }
   ],
   "source": [
    "my_data[0]"
   ]
  },
  {
   "cell_type": "code",
   "execution_count": 9,
   "metadata": {},
   "outputs": [],
   "source": [
    "# Делаем массивы нужных размеров lookback должен быть >= delay\n",
    "#lookback=50\n",
    "#delay=10\n",
    "#re_data = f_data[:f_data.shape[0]//lookback*lookback,].reshape(-1, lookback)[:-1,]"
   ]
  },
  {
   "cell_type": "code",
   "execution_count": 162,
   "metadata": {},
   "outputs": [],
   "source": [
    "# =  = my_pe[0]//lookback*lookback].reshape(-1,lookback)[1:,]\n",
    "#data_bool_y = (data_float_y[:,0] - data_float_y[:,delay-1])"
   ]
  },
  {
   "cell_type": "code",
   "execution_count": 13,
   "metadata": {},
   "outputs": [],
   "source": [
    "#data_float_y.shape"
   ]
  },
  {
   "cell_type": "code",
   "execution_count": 14,
   "metadata": {},
   "outputs": [],
   "source": [
    "# dx_0 = 0.0001\n",
    "# dx_1 = 0.001\n",
    "# dx_2 = 0.004\n",
    "# print(max(abs(data_bool_y)), dx_0, dx_1, dx_2)\n",
    "# data_bool_y_1 = (abs(data_bool_y) <= dx_0).astype('int').reshape(-1,1)\n",
    "# data_bool_y_2 = ((abs(data_bool_y) > dx_0) * (abs(data_bool_y) <= dx_1) * (data_bool_y > 0)).astype('int').reshape(-1,1)\n",
    "# data_bool_y_3 = ((abs(data_bool_y) > dx_1) * (abs(data_bool_y) <= dx_2) * (data_bool_y > 0)).astype('int').reshape(-1,1)\n",
    "# data_bool_y_4 = ((abs(data_bool_y) > dx_2) * (data_bool_y > 0)).astype('int').reshape(-1,1)\n",
    "# data_bool_y_2_neg = ((abs(data_bool_y) > dx_0) * (abs(data_bool_y) <= dx_1) * (data_bool_y < 0)).astype('int').reshape(-1,1)\n",
    "# data_bool_y_3_neg = ((abs(data_bool_y) > dx_1) * (abs(data_bool_y) <= dx_2) * (data_bool_y < 0)).astype('int').reshape(-1,1)\n",
    "# data_bool_y_4_neg = ((abs(data_bool_y) > dx_2) * (data_bool_y < 0)).astype('int').reshape(-1,1)\n",
    "# data_cat_y = np.concatenate((data_bool_y_1, data_bool_y_2, data_bool_y_3, data_bool_y_4, data_bool_y_2_neg, data_bool_y_3_neg, data_bool_y_4_neg), axis=1)"
   ]
  },
  {
   "cell_type": "code",
   "execution_count": 165,
   "metadata": {},
   "outputs": [],
   "source": [
    "f_data_train = re_data[:60000,]\n",
    "f_data_val = re_data[2000000:2100000,]\n",
    "f_data_test = re_data[60001:,]\n",
    "f_data_train_y = data_cat_y[:60000,]\n",
    "f_data_val_y = data_cat_y[2000000:2100000,]\n",
    "f_data_test_y = data_cat_y[60001:,]"
   ]
  },
  {
   "cell_type": "code",
   "execution_count": 166,
   "metadata": {},
   "outputs": [
    {
     "name": "stdout",
     "output_type": "stream",
     "text": [
      "122798 [30815 40825  4940    73 41286  4773    86]\n"
     ]
    }
   ],
   "source": [
    "print(np.sum(data_cat_y), np.sum(data_cat_y, axis=0))"
   ]
  },
  {
   "cell_type": "code",
   "execution_count": 129,
   "metadata": {},
   "outputs": [
    {
     "name": "stdout",
     "output_type": "stream",
     "text": [
      "[0.1536135  0.15357834 0.15366626 0.15401794 0.15385968 0.15398277\n",
      " 0.15410586 0.15408827 0.15380693 0.15375418 0.15356075 0.15336733\n",
      " 0.15241779 0.15387726 0.15403552 0.15387726 0.15378934 0.15366626\n",
      " 0.15359592 0.15349042 0.15320907 0.15333216 0.15385968 0.1536135\n",
      " 0.15370142 0.15349042 0.15329699 0.15366626 0.15373659 0.1530684 ] [0 0 0 0 1 0 0]\n"
     ]
    }
   ],
   "source": [
    "print(f_data_train[9], f_data_train_y[9])"
   ]
  },
  {
   "cell_type": "code",
   "execution_count": null,
   "metadata": {},
   "outputs": [],
   "source": [
    "lookback = 50\n",
    "step = 1\n",
    "delay = 10\n",
    "batch_size = 20\n",
    "f_data_train = f_data[:5000000-(delay-1),]\n",
    "f_data_train_y = my_data[(delay-1):5000000,:]\n",
    "f_data_val = f_data[5000001:6000000-(delay-1),]\n",
    "f_data_val_y = my_data[5000001+(delay-1):6000000,:]\n",
    "f_data_test = f_data[-100:-(delay-1),]\n",
    "f_data_test_y = my_data[-100+(delay-1):,:]\n",
    "print(f_data_train.shape)\n",
    "print(f_data_val.shape)\n",
    "print(f_data_test.shape)\n",
    "train_gen = TimeseriesGenerator(f_data_train, f_data_train_y, length=lookback, sampling_rate=step, batch_size=batch_size)\n",
    "val_gen = TimeseriesGenerator(f_data_val, f_data_val_y, length=lookback, sampling_rate=step, batch_size=1)\n",
    "test_gen = TimeseriesGenerator(f_data_test, f_data_test_y, length=lookback, sampling_rate=step, batch_size=1)\n",
    "train_steps = len(train_gen)\n",
    "val_steps = len(val_gen)\n",
    "test_steps = len(test_gen)"
   ]
  },
  {
   "cell_type": "code",
   "execution_count": 50,
   "metadata": {},
   "outputs": [],
   "source": [
    "# train_x=[]\n",
    "# train_y=[]\n",
    "# for ts in train_gen:\n",
    "#     ts_r = ts[0].reshape(batch_size,-1)\n",
    "#     train_x.append(ts_r[0])\n",
    "#     train_y = ts[1]\n",
    "# val_x=[]\n",
    "# val_y=[]\n",
    "# for ts in val_gen:\n",
    "#     ts_r = ts[0].reshape(batch_size,-1)\n",
    "#     val_x.append(ts_r[0])\n",
    "#     val_y = ts[1]\n",
    "test_x=[]\n",
    "test_y=[]\n",
    "for ts in test_gen:\n",
    "    #ts_r = ts[0].reshape(batch_size,-1)\n",
    "    #val_x.append(ts_r[0])\n",
    "    test_y.append(ts[1][0][0])"
   ]
  },
  {
   "cell_type": "code",
   "execution_count": 55,
   "metadata": {},
   "outputs": [
    {
     "name": "stdout",
     "output_type": "stream",
     "text": [
      "Epoch 1/10\n",
      "249998/249998 [==============================] - 9209s 37ms/step - loss: 0.1115 - val_loss: 2.4798e-04\n",
      "\n",
      "Epoch 00001: val_loss improved from inf to 0.00025, saving model to best-weights.hdf5\n",
      "Epoch 2/10\n",
      "249998/249998 [==============================] - 9063s 36ms/step - loss: 0.0032 - val_loss: 1.0460e-04\n",
      "\n",
      "Epoch 00002: val_loss improved from 0.00025 to 0.00010, saving model to best-weights.hdf5\n",
      "Epoch 3/10\n",
      "249998/249998 [==============================] - 8875s 36ms/step - loss: 0.0025 - val_loss: 2.3442e-05\n",
      "\n",
      "Epoch 00003: val_loss improved from 0.00010 to 0.00002, saving model to best-weights.hdf5\n",
      "Epoch 4/10\n",
      "249998/249998 [==============================] - 8902s 36ms/step - loss: 0.0023 - val_loss: 6.2675e-06\n",
      "\n",
      "Epoch 00004: val_loss improved from 0.00002 to 0.00001, saving model to best-weights.hdf5\n",
      "Epoch 5/10\n",
      "249998/249998 [==============================] - 10091s 40ms/step - loss: 0.0021 - val_loss: 9.6005e-07\n",
      "\n",
      "Epoch 00005: val_loss improved from 0.00001 to 0.00000, saving model to best-weights.hdf5\n",
      "Epoch 6/10\n",
      "249998/249998 [==============================] - 10907s 44ms/step - loss: 0.0020 - val_loss: 6.2375e-07\n",
      "\n",
      "Epoch 00006: val_loss improved from 0.00000 to 0.00000, saving model to best-weights.hdf5\n",
      "Epoch 7/10\n",
      "249998/249998 [==============================] - 12080s 48ms/step - loss: 0.0019 - val_loss: 6.3036e-07\n",
      "\n",
      "Epoch 00007: val_loss did not improve from 0.00000\n",
      "Epoch 8/10\n",
      "249998/249998 [==============================] - 9347s 37ms/step - loss: 0.0019 - val_loss: 5.5392e-07\n",
      "\n",
      "Epoch 00008: val_loss improved from 0.00000 to 0.00000, saving model to best-weights.hdf5\n",
      "Epoch 9/10\n",
      "249998/249998 [==============================] - 9095s 36ms/step - loss: 0.0018 - val_loss: 9.7185e-07\n",
      "\n",
      "Epoch 00009: val_loss did not improve from 0.00000\n",
      "Epoch 10/10\n",
      "249998/249998 [==============================] - 9152s 37ms/step - loss: 0.0018 - val_loss: 4.1281e-07\n",
      "\n",
      "Epoch 00010: val_loss improved from 0.00000 to 0.00000, saving model to best-weights.hdf5\n"
     ]
    }
   ],
   "source": [
    "checkpoint = ModelCheckpoint(filepath='best-weights.hdf5', monitor='val_loss', verbose=1, save_best_only=True)\n",
    "model = Sequential()\n",
    "model.add(layers.CuDNNGRU(\n",
    "    units=250, \n",
    "    input_shape=(None, f_data_train.shape[-1]),\n",
    "    return_sequences=False,\n",
    "    kernel_regularizer=None,\n",
    "    recurrent_regularizer=None,\n",
    "    bias_regularizer=None,\n",
    "    activity_regularizer=None))\n",
    "model.add(layers.Activation('tanh'))\n",
    "model.add(layers.Dropout(0.2))\n",
    "model.add(layers.Dense(1, activation='relu'))\n",
    "#sgd = optimizers.Adam(lr=0.0000001)\n",
    "sgd = optimizers.RMSprop(lr=0.0000001, rho=0.9)\n",
    "model.compile(loss='mse', optimizer=sgd)\n",
    "history = model.fit_generator(train_gen, steps_per_epoch=train_steps, epochs=10, validation_data=val_gen, validation_steps=val_steps, callbacks=[checkpoint])\n",
    "\n",
    "#history = model.fit(f_data_train, f_data_train_y, epochs=210, validation_split=0.3, callbacks=[checkpoint], verbose=1, batch_size=20)"
   ]
  },
  {
   "cell_type": "code",
   "execution_count": 44,
   "metadata": {},
   "outputs": [
    {
     "name": "stdout",
     "output_type": "stream",
     "text": [
      "_________________________________________________________________\n",
      "Layer (type)                 Output Shape              Param #   \n",
      "=================================================================\n",
      "cu_dnngru_6 (CuDNNGRU)       (None, 250)               189750    \n",
      "_________________________________________________________________\n",
      "activation_6 (Activation)    (None, 250)               0         \n",
      "_________________________________________________________________\n",
      "dropout_6 (Dropout)          (None, 250)               0         \n",
      "_________________________________________________________________\n",
      "dense_5 (Dense)              (None, 1)                 251       \n",
      "=================================================================\n",
      "Total params: 190,001\n",
      "Trainable params: 190,001\n",
      "Non-trainable params: 0\n",
      "_________________________________________________________________\n"
     ]
    }
   ],
   "source": [
    "model.save_weights('weights.last.hdf5')\n",
    "model.load_weights('best-weights.hdf5')\n",
    "model.summary()"
   ]
  },
  {
   "cell_type": "code",
   "execution_count": 56,
   "metadata": {},
   "outputs": [
    {
     "data": {
      "image/png": "[encoded data removed]",
      "text/plain": [
       "<Figure size 432x288 with 1 Axes>"
      ]
     },
     "metadata": {
      "needs_background": "light"
     },
     "output_type": "display_data"
    }
   ],
   "source": [
    "import matplotlib.pyplot as plt\n",
    "loss = history.history['loss']\n",
    "val_loss = history.history['val_loss']\n",
    "epochs = range(1, len(loss) + 1)\n",
    "plt.figure()\n",
    "plt.plot(epochs, loss, 'r', label='Training loss')\n",
    "plt.plot(epochs, val_loss, 'b', label='Validation loss')\n",
    "plt.title('Training and validation loss')\n",
    "plt.legend()\n",
    "plt.show()"
   ]
  },
  {
   "cell_type": "code",
   "execution_count": 57,
   "metadata": {},
   "outputs": [],
   "source": [
    "scores = model.predict_generator(test_gen, steps=test_steps)"
   ]
  },
  {
   "cell_type": "code",
   "execution_count": 201,
   "metadata": {},
   "outputs": [
    {
     "data": {
      "text/plain": [
       "array([0.00191043])"
      ]
     },
     "execution_count": 201,
     "metadata": {},
     "output_type": "execute_result"
    }
   ],
   "source": [
    "dx = scores[0] - test_y[0]\n",
    "scores_dx = scores - dx\n",
    "dx"
   ]
  },
  {
   "cell_type": "code",
   "execution_count": 62,
   "metadata": {},
   "outputs": [
    {
     "name": "stdout",
     "output_type": "stream",
     "text": [
      "1.093334\n",
      "1.0926\n"
     ]
    }
   ],
   "source": [
    "print(scores[10][0])\n",
    "print(test_y[10])"
   ]
  },
  {
   "cell_type": "code",
   "execution_count": 59,
   "metadata": {},
   "outputs": [
    {
     "data": {
      "image/png": "[encoded data removed]",
      "text/plain": [
       "<Figure size 432x288 with 1 Axes>"
      ]
     },
     "metadata": {
      "needs_background": "light"
     },
     "output_type": "display_data"
    }
   ],
   "source": [
    "#### from matplotlib import pyplot as plt\n",
    "plt.plot(range(len(scores)), scores, 'r', label='Predicted')\n",
    "plt.plot(range(test_steps), test_y, 'b', label='Real')\n",
    "plt.legend(['Predicted', 'Real'])\n",
    "plt.title('EURUSD Real and predicted')\n",
    "plt.show()"
   ]
  },
  {
   "cell_type": "code",
   "execution_count": null,
   "metadata": {},
   "outputs": [],
   "source": [
    "from matplotlib import pyplot as plt\n",
    "plt.plot(range(len(scores)), scores, 'r', label='Predicted')\n",
    "#plt.legend(['Predicted', 'Real'])\n",
    "plt.title('EURUSD Predicted')\n",
    "plt.show()"
   ]
  },
  {
   "cell_type": "code",
   "execution_count": 59,
   "metadata": {},
   "outputs": [],
   "source": [
    "model.save_weights('weights.last.hdf5')"
   ]
  },
  {
   "cell_type": "code",
   "execution_count": null,
   "metadata": {},
   "outputs": [],
   "source": []
  }
 ],
 "metadata": {
  "kernelspec": {
   "display_name": "Python 3",
   "language": "python",
   "name": "python3"
  },
  "language_info": {
   "codemirror_mode": {
    "name": "ipython",
    "version": 3
   },
   "file_extension": ".py",
   "mimetype": "text/x-python",
   "name": "python",
   "nbconvert_exporter": "python",
   "pygments_lexer": "ipython3",
   "version": "3.6.9"
  }
 },
 "nbformat": 4,
 "nbformat_minor": 2
}
