{
 "cells": [
  {
   "cell_type": "code",
   "execution_count": 1,
   "metadata": {},
   "outputs": [
    {
     "name": "stderr",
     "output_type": "stream",
     "text": [
      "Using TensorFlow backend.\n"
     ]
    }
   ],
   "source": [
    "from abc import abstractmethod, ABC\n",
    "from keras.models import load_model\n",
    "from keras.utils import to_categorical\n",
    "import numpy as np"
   ]
  },
  {
   "cell_type": "code",
   "execution_count": 2,
   "metadata": {},
   "outputs": [],
   "source": [
    "class ModelInterface(ABC):\n",
    "    \"\"\"\n",
    "\n",
    "    Интерфейс класса модели предсказания\n",
    "    - Модель должна содержать обязательный методы load и predict\n",
    "\n",
    "    \"\"\"\n",
    "    @abstractmethod\n",
    "    def load(self, model_file_path, weights_file_path=''):\n",
    "        pass\n",
    "    \n",
    "    @abstractmethod\n",
    "    def predict(self):\n",
    "        pass\n",
    "\n",
    "    \n",
    "class DataInterface(ABC):\n",
    "    \"\"\"\n",
    "\n",
    "    Интерфейс класса модели предсказания\n",
    "    - Модель должна содержать обязательный метод predict\n",
    "\n",
    "    \"\"\"\n",
    "    @abstractmethod\n",
    "    def prepare_data(self):\n",
    "        pass"
   ]
  },
  {
   "cell_type": "code",
   "execution_count": 3,
   "metadata": {},
   "outputs": [],
   "source": [
    "class PredictFactory:\n",
    "    \"\"\"\n",
    "\n",
    "    Базовый класс для абстрактной фабрики модели предсказания\n",
    "    \"\"\"\n",
    "    @classmethod\n",
    "    def create_model(Class):\n",
    "        return Class.Model()\n",
    "\n",
    "    @classmethod\n",
    "    def load_data(Class, data):\n",
    "        return Class.Data(data)"
   ]
  },
  {
   "cell_type": "code",
   "execution_count": 4,
   "metadata": {},
   "outputs": [],
   "source": [
    "class KerasFactory(PredictFactory): \n",
    "    \"\"\"\n",
    "\n",
    "    Фабрика предсказания через Keras.\n",
    "    - Использует рекурентные ноды LSTM.\n",
    "    - Предсказывает по последним 50 минутам на час вперёд.\n",
    "    - Вовращает число - вероятность того что цена вырастит.\n",
    "    - Больше 0.5 - вырастит, меньше 0.5 - упадёт.\n",
    "    Для создание новой фабрики, необходимо создать класс по аналогии с KerasFactory, \n",
    "    родителем данного класс должен быть PredictFactory.\n",
    "    Для использования новой фабрики необходимо вызывать функцию create_model с новым названием фабрики.\n",
    "    \"\"\"\n",
    "    class Model(ModelInterface):\n",
    "        def __init__(self):\n",
    "            self.model = None\n",
    "            self.data = None\n",
    "            \n",
    "        def load(self, model_file_path, weights_file_path=''):\n",
    "            self.model = load_model(model_file_path)\n",
    "            if weights_file_path!='':\n",
    "                self.model.load_weghts(weights_file_path)\n",
    "\n",
    "        def add_data(self, data: DataInterface):\n",
    "            self.data = data.prepare_data()\n",
    "\n",
    "        def predict(self) -> float:\n",
    "            return self.model.predict(self.data)\n",
    "\n",
    "    class Data(DataInterface):\n",
    "        \"\"\"\n",
    "        Класс данных занимется подготовкой данных\n",
    "        - Инициализируется двумерным массивом данных [0-49,0-12]\n",
    "        \"\"\"\n",
    "        def __init__(self, data):\n",
    "            self.data = data\n",
    "\n",
    "        def prepare_data(self):\n",
    "            \"\"\"\n",
    "            Метод возвращает данные подготовленные\n",
    "            для выпольнения метода 'predict' класса 'Model' фабрики\n",
    "            \"\"\"\n",
    "            data = self.data[-50:, ]\n",
    "            bin_days = to_categorical(data[:,0], num_classes=8)\n",
    "            data = np.delete(data, 0, 1)\n",
    "            data = np.concatenate((bin_days, data), axis=1)\n",
    "            data = data.reshape(1,7,13)\n",
    "            return data\n"
   ]
  },
  {
   "cell_type": "code",
   "execution_count": 5,
   "metadata": {},
   "outputs": [],
   "source": [
    "data1 = np.ones((7, 6), dtype=int)"
   ]
  },
  {
   "cell_type": "code",
   "execution_count": 6,
   "metadata": {},
   "outputs": [],
   "source": [
    "def create_model(factory, model_file_path, weights_file_path=''):\n",
    "    \"\"\"Для использования новой фабрике передайте имя новой фабрики\"\"\"\n",
    "    model = factory.create_model()\n",
    "    model.load(model_file_path, weights_file_path)\n",
    "    return model"
   ]
  },
  {
   "cell_type": "code",
   "execution_count": 8,
   "metadata": {},
   "outputs": [
    {
     "name": "stdout",
     "output_type": "stream",
     "text": [
      "[[0.00227056]]\n"
     ]
    }
   ],
   "source": [
    "mod1 = create_model(KerasFactory(), 'lstm_model.h5')\n",
    "data = KerasFactory().load_data(data1)\n",
    "mod1.add_data(data)\n",
    "print(mod1.predict())"
   ]
  },
  {
   "cell_type": "code",
   "execution_count": 7,
   "metadata": {},
   "outputs": [],
   "source": []
  },
  {
   "cell_type": "code",
   "execution_count": null,
   "metadata": {},
   "outputs": [],
   "source": []
  }
 ],
 "metadata": {
  "kernelspec": {
   "display_name": "Python 3",
   "language": "python",
   "name": "python3"
  },
  "language_info": {
   "codemirror_mode": {
    "name": "ipython",
    "version": 3
   },
   "file_extension": ".py",
   "mimetype": "text/x-python",
   "name": "python",
   "nbconvert_exporter": "python",
   "pygments_lexer": "ipython3",
   "version": "3.6.9"
  }
 },
 "nbformat": 4,
 "nbformat_minor": 2
}
