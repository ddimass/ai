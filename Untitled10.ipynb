{
 "cells": [
  {
   "cell_type": "code",
   "execution_count": 35,
   "metadata": {},
   "outputs": [],
   "source": [
    "import os\n",
    "from keras.models import Sequential\n",
    "from keras import layers\n",
    "from keras.optimizers import RMSprop\n",
    "from keras import regularizers\n",
    "from keras.utils import to_categorical\n",
    "from keras.callbacks import ModelCheckpoint\n",
    "import requests\n",
    "import json\n",
    "import numpy as np\n",
    "import tensorflow as tf\n",
    "config = tf.ConfigProto()\n",
    "config.gpu_options.allow_growth = True\n",
    "session = tf.Session(config=config)\n",
    "from datetime import datetime\n",
    "import time"
   ]
  },
  {
   "cell_type": "code",
   "execution_count": 3,
   "metadata": {},
   "outputs": [
    {
     "name": "stdout",
     "output_type": "stream",
     "text": [
      "WARNING:tensorflow:From C:\\Users\\a.lunev\\Anaconda3\\envs\\ML_GPU\\lib\\site-packages\\keras\\backend\\tensorflow_backend.py:517: The name tf.placeholder is deprecated. Please use tf.compat.v1.placeholder instead.\n",
      "\n",
      "WARNING:tensorflow:From C:\\Users\\a.lunev\\Anaconda3\\envs\\ML_GPU\\lib\\site-packages\\keras\\backend\\tensorflow_backend.py:4138: The name tf.random_uniform is deprecated. Please use tf.random.uniform instead.\n",
      "\n",
      "WARNING:tensorflow:From C:\\Users\\a.lunev\\Anaconda3\\envs\\ML_GPU\\lib\\site-packages\\keras\\backend\\tensorflow_backend.py:174: The name tf.get_default_session is deprecated. Please use tf.compat.v1.get_default_session instead.\n",
      "\n",
      "WARNING:tensorflow:From C:\\Users\\a.lunev\\Anaconda3\\envs\\ML_GPU\\lib\\site-packages\\keras\\backend\\tensorflow_backend.py:181: The name tf.ConfigProto is deprecated. Please use tf.compat.v1.ConfigProto instead.\n",
      "\n",
      "WARNING:tensorflow:From C:\\Users\\a.lunev\\Anaconda3\\envs\\ML_GPU\\lib\\site-packages\\keras\\optimizers.py:790: The name tf.train.Optimizer is deprecated. Please use tf.compat.v1.train.Optimizer instead.\n",
      "\n",
      "WARNING:tensorflow:From C:\\Users\\a.lunev\\Anaconda3\\envs\\ML_GPU\\lib\\site-packages\\tensorflow\\python\\ops\\nn_impl.py:180: add_dispatch_support.<locals>.wrapper (from tensorflow.python.ops.array_ops) is deprecated and will be removed in a future version.\n",
      "Instructions for updating:\n",
      "Use tf.where in 2.0, which has the same broadcast rule as np.where\n"
     ]
    }
   ],
   "source": [
    "model = Sequential()\n",
    "model.add(layers.CuDNNGRU(64, input_shape=(None, 11)))\n",
    "model.add(layers.Dense(1, activation='sigmoid'))\n",
    "model.load_weights(\"weights.best.hdf5\")\n",
    "model.compile(optimizer='adam', loss='binary_crossentropy', metrics=['acc'])"
   ]
  },
  {
   "cell_type": "code",
   "execution_count": 33,
   "metadata": {},
   "outputs": [],
   "source": [
    "def pred():\n",
    "    auth_url = 'http://185.49.144.175/api/token/'\n",
    "    bar_url = 'http://185.49.144.175/api/bars/?timeframe=1&for_predict=1'\n",
    "    headers = {'Content-type': 'application/json', 'Content-Encoding': 'utf-8'}\n",
    "    data = {\"username\": \"lim\",\"password\": \"Serialnomberr3\"}\n",
    "    answer = requests.post(auth_url, data=json.dumps(data), headers=headers)\n",
    "    response = answer.json()\n",
    "    token = response['access']\n",
    "    headers = {'Authorization': 'Bearer ' + token}\n",
    "    answer = requests.get(bar_url, headers=headers)\n",
    "    response = answer.json()\n",
    "    pred_data = np.zeros((len(response), 6))\n",
    "    for i, bar in enumerate(response):\n",
    "        date = datetime.strptime( bar['time'], \"%Y-%m-%dT%H:%M:%SZ\" )\n",
    "        values = [date.isoweekday(), float(bar['open']), float(bar['high']), float(bar['low']), float(bar['close']), float(bar['tick_volume'])]\n",
    "        pred_data[i, :] = values\n",
    "    pred_data = np.flip(pred_data,0)\n",
    "    bin_days = to_categorical(pred_data[:,0],num_classes=6)\n",
    "    pred_data = np.delete(pred_data, 0, 1)\n",
    "    pred_data = np.concatenate((bin_days, pred_data), axis=1)\n",
    "    min = pred_data[:1500000, 10].min(axis=0)\n",
    "    max = pred_data[:1500000, 10].max(axis=0)\n",
    "    pred_data[:, 10] = (pred_data[:, 10] - min) / (max - min)\n",
    "    r_data = pred_data.reshape(1,30,11)\n",
    "    pred = model.predict(r_data)\n",
    "    return([pred[0][0], r_data[0,0,6]])\n",
    "def comp(pre, op):\n",
    "    auth_url = 'http://185.49.144.175/api/token/'\n",
    "    bar_url = 'http://185.49.144.175/api/bars/?timeframe=1&for_predict=1'\n",
    "    headers = {'Content-type': 'application/json', 'Content-Encoding': 'utf-8'}\n",
    "    data = {\"username\": \"lim\",\"password\": \"Serialnomberr3\"}\n",
    "    answer = requests.post(auth_url, data=json.dumps(data), headers=headers)\n",
    "    response = answer.json()\n",
    "    token = response['access']\n",
    "    headers = {'Authorization': 'Bearer ' + token}\n",
    "    answer = requests.get(bar_url, headers=headers)\n",
    "    response = answer.json()\n",
    "    if (pre == 0):\n",
    "        return response[0]['close'] < op\n",
    "    else:\n",
    "        return response[0]['close'] > op\n",
    "    \n",
    "    \n",
    "    "
   ]
  },
  {
   "cell_type": "code",
   "execution_count": null,
   "metadata": {},
   "outputs": [],
   "source": [
    "while 1:\n",
    "    op=0\n",
    "    pre=0\n",
    "    now = datetime.now()\n",
    "    if (now.minute < 29):\n",
    "        print(comp())\n",
    "    else:\n",
    "        pre, op = pred()\n",
    "    time.sleep(1800)"
   ]
  }
 ],
 "metadata": {
  "kernelspec": {
   "display_name": "Python 3",
   "language": "python",
   "name": "python3"
  },
  "language_info": {
   "codemirror_mode": {
    "name": "ipython",
    "version": 3
   },
   "file_extension": ".py",
   "mimetype": "text/x-python",
   "name": "python",
   "nbconvert_exporter": "python",
   "pygments_lexer": "ipython3",
   "version": "3.6.9"
  }
 },
 "nbformat": 4,
 "nbformat_minor": 2
}
