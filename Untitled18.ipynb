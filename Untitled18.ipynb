{
 "cells": [
  {
   "cell_type": "code",
   "execution_count": 1,
   "metadata": {},
   "outputs": [],
   "source": [
    "from abc import abstractmethod, ABC"
   ]
  },
  {
   "cell_type": "code",
   "execution_count": 10,
   "metadata": {},
   "outputs": [],
   "source": [
    "class HeroFactory():\n",
    "    @classmethod\n",
    "    def create_hero(Class, name):\n",
    "        return Class.Hero(name)\n",
    "    \n",
    "    @classmethod\n",
    "    def create_spell(Class):\n",
    "        return Class.Spell()\n",
    "    \n",
    "    @classmethod\n",
    "    def create_weapon(Class):\n",
    "        return Class.Weapon()"
   ]
  },
  {
   "cell_type": "code",
   "execution_count": 3,
   "metadata": {},
   "outputs": [],
   "source": [
    "class WarriorFactory(HeroFactory):\n",
    "    class Hero:\n",
    "        def __init__(self, name):\n",
    "            self.name = name\n",
    "            self.spell = None\n",
    "            self.weapon = None\n",
    "\n",
    "        def add_weapon(self, weapon):\n",
    "            self.weapon = weapon\n",
    "\n",
    "        def add_spell(self, spell):\n",
    "            self.spell = spell\n",
    "\n",
    "        def hit(self):\n",
    "            print(f\"Warrior {self.name} hits with {self.weapon.hit()}\")\n",
    "\n",
    "        def cast(self):\n",
    "            print(f\"Warrior {self.name} casts {self.spell.cast()}\")\n",
    "\n",
    "\n",
    "    class Weapon:\n",
    "        def hit(self):\n",
    "            return \"Claymore\"\n",
    "\n",
    "\n",
    "    class Spell:\n",
    "        def cast():\n",
    "            return \"Power\"\n",
    "        "
   ]
  },
  {
   "cell_type": "code",
   "execution_count": 4,
   "metadata": {},
   "outputs": [],
   "source": [
    "class AssasinFactory(HeroFactory): \n",
    "    class Hero:\n",
    "        def __init__(self, name):\n",
    "            self.name = name\n",
    "            self.spell = None\n",
    "            self.weapon = None\n",
    "\n",
    "        def add_weapon(self, weapon):\n",
    "            self.weapon = weapon\n",
    "\n",
    "        def add_spell(self, spell):\n",
    "            self.spell = spell\n",
    "\n",
    "        def hit(self):\n",
    "            print(f\"Assasin {self.name} hits with {self.weapon.hit()}\")\n",
    "\n",
    "        def cast(self):\n",
    "            print(f\"Assasin {self.name} casts {self.spell.cast()}\")\n",
    "\n",
    "\n",
    "    class Weapon:\n",
    "        def hit(self):\n",
    "            return \"Dagger\"\n",
    "\n",
    "\n",
    "    class Spell:\n",
    "        def cast():\n",
    "            return \"Invisibility\""
   ]
  },
  {
   "cell_type": "code",
   "execution_count": 5,
   "metadata": {},
   "outputs": [],
   "source": [
    "class MageFactory(HeroFactory):\n",
    "    class Hero:\n",
    "        def __init__(self, name):\n",
    "            self.name = name\n",
    "            self.spell = None\n",
    "            self.weapon = None\n",
    "\n",
    "        def add_weapon(self, weapon):\n",
    "            self.weapon = weapon\n",
    "\n",
    "        def add_spell(self, spell):\n",
    "            self.spell = spell\n",
    "\n",
    "        def hit(self):\n",
    "            print(f\"Mage {self.name} hits with {self.weapon.hit()}\")\n",
    "\n",
    "        def cast(self):\n",
    "            print(f\"Mage {self.name} casts {self.spell.cast()}\")\n",
    "\n",
    "\n",
    "    class Weapon:\n",
    "        def hit(self):\n",
    "            return \"Wand\"\n",
    "\n",
    "\n",
    "    class Spell:\n",
    "        def cast(self):\n",
    "            return \"Shield\""
   ]
  },
  {
   "cell_type": "code",
   "execution_count": 6,
   "metadata": {},
   "outputs": [],
   "source": [
    "def create_hero(factory):\n",
    "    hero = factory.create_hero(\"Bezlim\")\n",
    "    \n",
    "    weapon = factory.create_weapon()\n",
    "    spell = factory.create_spell()\n",
    "    \n",
    "    hero.add_weapon(weapon)\n",
    "    hero.add_spell(spell)\n",
    "    \n",
    "    return hero\n",
    "\n"
   ]
  },
  {
   "cell_type": "code",
   "execution_count": 7,
   "metadata": {},
   "outputs": [
    {
     "name": "stdout",
     "output_type": "stream",
     "text": [
      "Mage Bezlim hits with Wand\n",
      "Mage Bezlim casts Shield\n"
     ]
    }
   ],
   "source": [
    "player = create_hero(MageFactory())\n",
    "player.hit()\n",
    "player.cast()"
   ]
  },
  {
   "cell_type": "code",
   "execution_count": 8,
   "metadata": {},
   "outputs": [
    {
     "name": "stdout",
     "output_type": "stream",
     "text": [
      "Mage Bezlim hits with Wand\n",
      "Mage Bezlim casts Shield\n"
     ]
    }
   ],
   "source": [
    "player1 = create_hero(AssasinFactory())\n",
    "player.hit()\n",
    "player.cast()"
   ]
  },
  {
   "cell_type": "code",
   "execution_count": null,
   "metadata": {},
   "outputs": [],
   "source": []
  }
 ],
 "metadata": {
  "kernelspec": {
   "display_name": "Python 3",
   "language": "python",
   "name": "python3"
  },
  "language_info": {
   "codemirror_mode": {
    "name": "ipython",
    "version": 3
   },
   "file_extension": ".py",
   "mimetype": "text/x-python",
   "name": "python",
   "nbconvert_exporter": "python",
   "pygments_lexer": "ipython3",
   "version": "3.6.9"
  }
 },
 "nbformat": 4,
 "nbformat_minor": 2
}
