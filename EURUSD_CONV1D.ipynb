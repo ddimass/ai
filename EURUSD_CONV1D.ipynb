{
 "cells": [
  {
   "cell_type": "code",
   "execution_count": 1,
   "metadata": {},
   "outputs": [
    {
     "name": "stderr",
     "output_type": "stream",
     "text": [
      "Using TensorFlow backend.\n",
      "C:\\Users\\a.lunev\\Anaconda3\\envs\\ML_GPU\\lib\\site-packages\\sklearn\\externals\\joblib\\__init__.py:15: DeprecationWarning: sklearn.externals.joblib is deprecated in 0.21 and will be removed in 0.23. Please import this functionality directly from joblib, which can be installed with: pip install joblib. If this warning is raised when loading pickled models, you may need to re-serialize those models with scikit-learn 0.21+.\n",
      "  warnings.warn(msg, category=DeprecationWarning)\n"
     ]
    }
   ],
   "source": [
    "import os\n",
    "from keras.models import Sequential, Model\n",
    "from keras import layers, regularizers, optimizers\n",
    "from keras.optimizers import RMSprop\n",
    "from keras.utils import to_categorical\n",
    "from keras.callbacks import ModelCheckpoint\n",
    "#import requests\n",
    "import json\n",
    "import numpy as np\n",
    "import tensorflow as tf\n",
    "#config = tf.ConfigProto()\n",
    "#config.gpu_options.allow_growth = True\n",
    "#session = tf.Session(config=config)\n",
    "from datetime import datetime\n",
    "from sklearn import preprocessing\n",
    "from sklearn.externals import joblib\n",
    "from keras.preprocessing.sequence import TimeseriesGenerator"
   ]
  },
  {
   "cell_type": "code",
   "execution_count": 2,
   "metadata": {},
   "outputs": [],
   "source": [
    "my_data = np.genfromtxt('EURUSD-H1-2013-2019.csv', delimiter=',', skip_header=1)\n",
    "#Translate date to day of week\n",
    "for i, data in enumerate(my_data):\n",
    "    my_data[i][0] = (datetime.strptime(str(data[0]), \"%Y%m%d.0\")).isoweekday()\n",
    "# Add categorical day of week\n",
    "bin_days = to_categorical(my_data[:,0])\n",
    "my_data = np.delete(my_data, 0, 1)\n",
    "my_data = np.delete(my_data, 0, 1)\n",
    "my_data = np.concatenate((bin_days, my_data), axis=1)\n",
    "# Calc High - Low\n",
    "#my_data[:,9] = my_data[:,9] - my_data[:,10]\n",
    "#my_data = np.delete(my_data, 10, 1)\n",
    "# Mark data\n",
    "Y = my_data[:,11] > my_data[:,8]\n",
    "Y = Y.astype('int')"
   ]
  },
  {
   "cell_type": "code",
   "execution_count": 3,
   "metadata": {},
   "outputs": [],
   "source": [
    "# Data Normalisation\n",
    "#data = preprocessing.MinMaxScaler().fit_transform(my_data)"
   ]
  },
  {
   "cell_type": "code",
   "execution_count": 3,
   "metadata": {},
   "outputs": [
    {
     "data": {
      "text/plain": [
       "(42641, 13)"
      ]
     },
     "execution_count": 3,
     "metadata": {},
     "output_type": "execute_result"
    }
   ],
   "source": [
    "my_data.shape"
   ]
  },
  {
   "cell_type": "code",
   "execution_count": 7,
   "metadata": {},
   "outputs": [],
   "source": [
    "# Split data and make generator\n",
    "length_in_past = 50\n",
    "batch_size = 100\n",
    "train_max_ind = 35000\n",
    "val_max_ind = 40000\n",
    "data_train = preprocessing.MinMaxScaler().fit_transform(my_data[:train_max_ind,])\n",
    "data_val = preprocessing.MinMaxScaler().fit_transform(my_data[train_max_ind+1:val_max_ind,])\n",
    "data_test = preprocessing.MinMaxScaler().fit_transform(my_data[val_max_ind+1:,])\n",
    "data_train_y = Y[:train_max_ind,]\n",
    "data_val_y = Y[train_max_ind+1:val_max_ind,]\n",
    "data_test_y = Y[val_max_ind+1:,]\n",
    "train_gen = TimeseriesGenerator(data_train, data_train_y, length=length_in_past, batch_size=batch_size, shuffle=False)\n",
    "val_gen = TimeseriesGenerator(data_val, data_val_y, length=length_in_past, batch_size=100)\n",
    "test_gen = TimeseriesGenerator(data_test, data_test_y, length=length_in_past, batch_size=1)\n",
    "train_steps = len(train_gen)\n",
    "val_steps = len(val_gen)\n",
    "test_steps = len(test_gen)"
   ]
  },
  {
   "cell_type": "code",
   "execution_count": 77,
   "metadata": {},
   "outputs": [
    {
     "name": "stdout",
     "output_type": "stream",
     "text": [
      "(10, 30, 12)\n"
     ]
    }
   ],
   "source": [
    "for i in train_gen:\n",
    "    print(i[0].shape)\n",
    "    break"
   ]
  },
  {
   "cell_type": "code",
   "execution_count": 8,
   "metadata": {},
   "outputs": [
    {
     "name": "stdout",
     "output_type": "stream",
     "text": [
      "Epoch 1/1\n",
      "350/350 [==============================] - 7s 19ms/step - loss: 0.6935 - acc: 0.4970 - val_loss: 0.6929 - val_acc: 0.5088\n",
      "\n",
      "Epoch 00001: val_acc improved from -inf to 0.50879, saving model to best-weights-conv.hdf5\n"
     ]
    }
   ],
   "source": [
    "#Make AI model\n",
    "checkpoint = ModelCheckpoint(filepath='best-weights-conv.hdf5', monitor='val_acc', verbose=1, save_best_only=True)\n",
    "model = Sequential()\n",
    "\n",
    "model.add(layers.Conv1D(512, 30, activation='relu', input_shape=(length_in_past, 13)))\n",
    "model.add(layers.MaxPooling1D())\n",
    "#model.add(layers.Dropout(0.3))\n",
    "\n",
    "#model.add(layers.Conv1D(256, 20, activation='relu', input_shape=(length_in_past, 13)))\n",
    "#model.add(layers.MaxPooling1D(1))\n",
    "\n",
    "#model.add(layers.Conv1D(128, 10, activation='relu'))\n",
    "#model.add(layers.MaxPooling1D())\n",
    "\n",
    "model.add(layers.Conv1D(32, 5, activation='relu'))\n",
    "model.add(layers.MaxPooling1D())\n",
    "#model.add(layers.Dropout(0.3))\n",
    "\n",
    "model.add(layers.Conv1D(32, 3, activation='relu'))\n",
    "model.add(layers.GlobalMaxPooling1D())\n",
    "model.add(layers.Dropout(0.3))\n",
    "\n",
    "#model.add(layers.GRU(128, recurrent_dropout=0.5))\n",
    "\n",
    "#model.add(layers.Dense(128, activation='relu'))\n",
    "\n",
    "model.add(layers.Dense(1, activation='sigmoid'))\n",
    "\n",
    "model.compile(loss='binary_crossentropy', optimizer=optimizers.RMSprop(lr=1e-5), metrics=['acc'])\n",
    "\n",
    "history = model.fit_generator(train_gen, steps_per_epoch=train_steps, epochs=1, validation_data=val_gen, validation_steps=val_steps, callbacks=[checkpoint])\n"
   ]
  },
  {
   "cell_type": "code",
   "execution_count": 6,
   "metadata": {},
   "outputs": [
    {
     "name": "stdout",
     "output_type": "stream",
     "text": [
      "WARNING:tensorflow:From C:\\Users\\a.lunev\\Anaconda3\\envs\\ML_GPU\\lib\\site-packages\\keras\\optimizers.py:790: The name tf.train.Optimizer is deprecated. Please use tf.compat.v1.train.Optimizer instead.\n",
      "\n",
      "WARNING:tensorflow:From C:\\Users\\a.lunev\\Anaconda3\\envs\\ML_GPU\\lib\\site-packages\\keras\\backend\\tensorflow_backend.py:3376: The name tf.log is deprecated. Please use tf.math.log instead.\n",
      "\n",
      "WARNING:tensorflow:From C:\\Users\\a.lunev\\Anaconda3\\envs\\ML_GPU\\lib\\site-packages\\tensorflow\\python\\ops\\nn_impl.py:180: add_dispatch_support.<locals>.wrapper (from tensorflow.python.ops.array_ops) is deprecated and will be removed in a future version.\n",
      "Instructions for updating:\n",
      "Use tf.where in 2.0, which has the same broadcast rule as np.where\n",
      "Epoch 1/20\n",
      "34950/34950 [==============================] - 1499s 43ms/step - loss: 18.3593 - acc: 0.5011 - val_loss: 22.0857 - val_acc: 0.4981\n",
      "\n",
      "Epoch 00001: val_acc improved from -inf to 0.49808, saving model to best-weights.hdf5\n",
      "Epoch 2/20\n",
      "34950/34950 [==============================] - 1718s 49ms/step - loss: 18.3042 - acc: 0.4979 - val_loss: 21.8616 - val_acc: 0.4997\n",
      "\n",
      "Epoch 00002: val_acc improved from 0.49808 to 0.49970, saving model to best-weights.hdf5\n",
      "Epoch 3/20\n",
      "34950/34950 [==============================] - 1336s 38ms/step - loss: 18.2796 - acc: 0.5032 - val_loss: 22.0258 - val_acc: 0.4989\n",
      "\n",
      "Epoch 00003: val_acc did not improve from 0.49970\n",
      "Epoch 4/20\n",
      "34950/34950 [==============================] - 1311s 38ms/step - loss: 18.2563 - acc: 0.5001 - val_loss: 21.3775 - val_acc: 0.4973\n",
      "\n",
      "Epoch 00004: val_acc did not improve from 0.49970\n",
      "Epoch 5/20\n",
      "34950/34950 [==============================] - 1363s 39ms/step - loss: 18.2313 - acc: 0.4981 - val_loss: 21.8374 - val_acc: 0.5052\n",
      "\n",
      "Epoch 00005: val_acc improved from 0.49970 to 0.50515, saving model to best-weights.hdf5\n",
      "Epoch 6/20\n",
      "34950/34950 [==============================] - 1395s 40ms/step - loss: 18.2064 - acc: 0.4973 - val_loss: 21.8522 - val_acc: 0.4999\n",
      "\n",
      "Epoch 00006: val_acc did not improve from 0.50515\n",
      "Epoch 7/20\n",
      "34950/34950 [==============================] - 1312s 38ms/step - loss: 18.1826 - acc: 0.4991 - val_loss: 21.9507 - val_acc: 0.4977\n",
      "\n",
      "Epoch 00007: val_acc did not improve from 0.50515\n",
      "Epoch 8/20\n",
      "34950/34950 [==============================] - 1323s 38ms/step - loss: 18.1572 - acc: 0.4948 - val_loss: 21.9817 - val_acc: 0.4965\n",
      "\n",
      "Epoch 00008: val_acc did not improve from 0.50515\n",
      "Epoch 9/20\n",
      "34950/34950 [==============================] - 1363s 39ms/step - loss: 18.1324 - acc: 0.5037 - val_loss: 21.7105 - val_acc: 0.4995\n",
      "\n",
      "Epoch 00009: val_acc did not improve from 0.50515\n",
      "Epoch 10/20\n",
      "34950/34950 [==============================] - 1345s 38ms/step - loss: 18.1090 - acc: 0.4988 - val_loss: 21.5107 - val_acc: 0.4981\n",
      "\n",
      "Epoch 00010: val_acc did not improve from 0.50515\n",
      "Epoch 11/20\n",
      "34950/34950 [==============================] - 1289s 37ms/step - loss: 18.0838 - acc: 0.4979 - val_loss: 21.1230 - val_acc: 0.4979\n",
      "\n",
      "Epoch 00011: val_acc did not improve from 0.50515\n",
      "Epoch 12/20\n",
      "34950/34950 [==============================] - 1312s 38ms/step - loss: 18.0589 - acc: 0.5029 - val_loss: 21.1210 - val_acc: 0.5021\n",
      "\n",
      "Epoch 00012: val_acc did not improve from 0.50515\n",
      "Epoch 13/20\n",
      "34950/34950 [==============================] - 1352s 39ms/step - loss: 18.0356 - acc: 0.5014 - val_loss: 21.1708 - val_acc: 0.5003\n",
      "\n",
      "Epoch 00013: val_acc did not improve from 0.50515\n",
      "Epoch 14/20\n",
      "34950/34950 [==============================] - 1293s 37ms/step - loss: 18.0100 - acc: 0.5019 - val_loss: 22.0250 - val_acc: 0.4997\n",
      "\n",
      "Epoch 00014: val_acc did not improve from 0.50515\n",
      "Epoch 15/20\n",
      "34950/34950 [==============================] - 1270s 36ms/step - loss: 17.9827 - acc: 0.4952 - val_loss: 21.5541 - val_acc: 0.4959\n",
      "\n",
      "Epoch 00015: val_acc did not improve from 0.50515\n",
      "Epoch 16/20\n",
      "34950/34950 [==============================] - 1229s 35ms/step - loss: 17.9558 - acc: 0.4967 - val_loss: 21.2807 - val_acc: 0.4971\n",
      "\n",
      "Epoch 00016: val_acc did not improve from 0.50515\n",
      "Epoch 17/20\n",
      "34950/34950 [==============================] - 1228s 35ms/step - loss: 17.9296 - acc: 0.4991 - val_loss: 20.8962 - val_acc: 0.5003\n",
      "\n",
      "Epoch 00017: val_acc did not improve from 0.50515\n",
      "Epoch 18/20\n",
      "34950/34950 [==============================] - 1297s 37ms/step - loss: 17.9024 - acc: 0.5019 - val_loss: 21.0258 - val_acc: 0.4981\n",
      "\n",
      "Epoch 00018: val_acc did not improve from 0.50515\n",
      "Epoch 19/20\n",
      "34950/34950 [==============================] - 1394s 40ms/step - loss: 17.8764 - acc: 0.5031 - val_loss: 21.0589 - val_acc: 0.4969\n",
      "\n",
      "Epoch 00019: val_acc did not improve from 0.50515\n",
      "Epoch 20/20\n",
      "34950/34950 [==============================] - 1357s 39ms/step - loss: 17.8509 - acc: 0.5023 - val_loss: 21.0089 - val_acc: 0.4957\n",
      "\n",
      "Epoch 00020: val_acc did not improve from 0.50515\n"
     ]
    }
   ],
   "source": [
    "checkpoint = ModelCheckpoint(filepath='best-weights.hdf5', monitor='val_acc', verbose=1, save_best_only=True)\n",
    "#Functional API model\n",
    "# Make CNN branch\n",
    "#visible1 = layers.Input(shape=(length_in_past, 13))\n",
    "\n",
    "#cnn1d_1 = layers.Conv1D(500, 30, activation='relu')(visible1)\n",
    "# pool_1 = layers.MaxPooling1D()(cnn1d_1)\n",
    "\n",
    "# cnn1d_2 = layers.Conv1D(420, 5, activation='relu')(pool_1)\n",
    "# pool_2 = layers.MaxPooling1D()(cnn1d_2)\n",
    "\n",
    "# cnn1d_3 = layers.Conv1D(420, 3, activation='relu')(pool_2)\n",
    "# pool_3 = layers.GlobalMaxPooling1D()(cnn1d_3)\n",
    "# cnn_drop_1 = layers.Dropout(0.2)(pool_3)\n",
    "\n",
    "#flat1 = layers.Flatten()(cnn_drop_1)\n",
    "\n",
    "#Make LSTM branch\n",
    "visible1 = layers.Input(shape=(length_in_past, 13))\n",
    "\n",
    "lstm_1 = layers.CuDNNLSTM(units=350, return_sequences=True, recurrent_regularizer=regularizers.l1())(visible1)\n",
    "batch_1 = layers.BatchNormalization(axis=-1)(lstm_1)\n",
    "act_1 = layers.Activation('relu')(batch_1)\n",
    "\n",
    "lstm_2 = layers.CuDNNLSTM(units=220, return_sequences=True, recurrent_regularizer=regularizers.l1())(act_1)\n",
    "batch_2 = layers.BatchNormalization(axis=-1)(lstm_2)\n",
    "act_2 = layers.Activation('relu')(batch_2)\n",
    "\n",
    "lstm_3 = layers.CuDNNLSTM(units=220, return_sequences=False, recurrent_regularizer=regularizers.l1())(act_2)\n",
    "batch_3 = layers.BatchNormalization(axis=-1)(lstm_3)\n",
    "act_3 = layers.Activation('relu')(batch_3)\n",
    "\n",
    "#lstm_drop_1 = layers.Dropout(0.2)(act_3)\n",
    "\n",
    "#flat2 = layers.Flatten()(lstm_drop_1)\n",
    "\n",
    "#merge = layers.concatenate([cnn_drop_1, lstm_drop_1])\n",
    "\n",
    "#hidden1 = layers.Dense(100, activation='relu')(cnn_drop_1)\n",
    "output = layers.Dense(1, activation='sigmoid')(act_3)\n",
    "model = Model(inputs=visible1, outputs=output)\n",
    "model.compile(loss='binary_crossentropy', optimizer=optimizers.Adamax(lr=15e-3), metrics=['acc'])\n",
    "\n",
    "history = model.fit_generator(train_gen, steps_per_epoch=train_steps, epochs=20, validation_data=val_gen, validation_steps=val_steps, callbacks=[checkpoint])\n",
    "\n"
   ]
  },
  {
   "cell_type": "code",
   "execution_count": 21,
   "metadata": {},
   "outputs": [],
   "source": [
    "model.load_weights('best-weights.hdf5')"
   ]
  },
  {
   "cell_type": "code",
   "execution_count": 6,
   "metadata": {},
   "outputs": [
    {
     "name": "stdout",
     "output_type": "stream",
     "text": [
      "_________________________________________________________________\n",
      "Layer (type)                 Output Shape              Param #   \n",
      "=================================================================\n",
      "input_1 (InputLayer)         (None, 50, 13)            0         \n",
      "_________________________________________________________________\n",
      "cu_dnnlstm_1 (CuDNNLSTM)     (None, 50, 180)           140400    \n",
      "_________________________________________________________________\n",
      "batch_normalization_1 (Batch (None, 50, 180)           720       \n",
      "_________________________________________________________________\n",
      "activation_1 (Activation)    (None, 50, 180)           0         \n",
      "_________________________________________________________________\n",
      "cu_dnnlstm_2 (CuDNNLSTM)     (None, 50, 60)            58080     \n",
      "_________________________________________________________________\n",
      "batch_normalization_2 (Batch (None, 50, 60)            240       \n",
      "_________________________________________________________________\n",
      "activation_2 (Activation)    (None, 50, 60)            0         \n",
      "_________________________________________________________________\n",
      "cu_dnnlstm_3 (CuDNNLSTM)     (None, 60)                29280     \n",
      "_________________________________________________________________\n",
      "batch_normalization_3 (Batch (None, 60)                240       \n",
      "_________________________________________________________________\n",
      "activation_3 (Activation)    (None, 60)                0         \n",
      "_________________________________________________________________\n",
      "dropout_2 (Dropout)          (None, 60)                0         \n",
      "_________________________________________________________________\n",
      "dense_2 (Dense)              (None, 1)                 61        \n",
      "=================================================================\n",
      "Total params: 229,021\n",
      "Trainable params: 228,421\n",
      "Non-trainable params: 600\n",
      "_________________________________________________________________\n"
     ]
    }
   ],
   "source": [
    "model.summary()"
   ]
  },
  {
   "cell_type": "code",
   "execution_count": 22,
   "metadata": {},
   "outputs": [],
   "source": [
    "model.save('lstm_model.h5')"
   ]
  },
  {
   "cell_type": "code",
   "execution_count": 9,
   "metadata": {},
   "outputs": [],
   "source": [
    "model.save('CNN_EURUSD.h5')\n",
    "#model.save_weights('CNN_EURUSD.hdf5')"
   ]
  },
  {
   "cell_type": "code",
   "execution_count": 77,
   "metadata": {},
   "outputs": [
    {
     "data": {
      "text/plain": [
       "<matplotlib.legend.Legend at 0x21255b05860>"
      ]
     },
     "execution_count": 77,
     "metadata": {},
     "output_type": "execute_result"
    },
    {
     "data": {
      "image/png": "[encoded data removed]",
      "text/plain": [
       "<Figure size 432x288 with 1 Axes>"
      ]
     },
     "metadata": {},
     "output_type": "display_data"
    }
   ],
   "source": [
    "import matplotlib.pyplot as plt\n",
    "# plot the training loss and accuracy\n",
    "plt.style.use(\"ggplot\")\n",
    "plt.figure()\n",
    "N = len(history.history['loss'])\n",
    "plt.plot(np.arange(0, N), history.history[\"loss\"], label=\"train_loss\")\n",
    "plt.plot(np.arange(0, N), history.history[\"val_loss\"], label=\"val_loss\")\n",
    "#plt.plot(np.arange(0, N), history.history[\"acc\"], label=\"train_acc\")\n",
    "#plt.plot(np.arange(0, N), history.history[\"val_acc\"], label=\"val_acc\")\n",
    "plt.title(\"Training Loss and Accuracy\")\n",
    "plt.xlabel(\"Epoch #\")\n",
    "plt.ylabel(\"Loss/Accuracy\")\n",
    "plt.legend(loc=\"upper left\")"
   ]
  },
  {
   "cell_type": "code",
   "execution_count": 44,
   "metadata": {},
   "outputs": [],
   "source": [
    "layer_names = []\n",
    "for layer in model.layers[:12]:\n",
    "    layer_names.append(layer.name)"
   ]
  },
  {
   "cell_type": "code",
   "execution_count": 45,
   "metadata": {},
   "outputs": [],
   "source": [
    "images_per_row = 16"
   ]
  },
  {
   "cell_type": "code",
   "execution_count": 69,
   "metadata": {},
   "outputs": [
    {
     "data": {
      "text/plain": [
       "TensorShape([Dimension(30), Dimension(13), Dimension(2056)])"
      ]
     },
     "execution_count": 69,
     "metadata": {},
     "output_type": "execute_result"
    }
   ],
   "source": [
    "history.model.layers[0].weights[0].shape"
   ]
  },
  {
   "cell_type": "code",
   "execution_count": null,
   "metadata": {},
   "outputs": [],
   "source": []
  }
 ],
 "metadata": {
  "kernelspec": {
   "display_name": "Python 3",
   "language": "python",
   "name": "python3"
  },
  "language_info": {
   "codemirror_mode": {
    "name": "ipython",
    "version": 3
   },
   "file_extension": ".py",
   "mimetype": "text/x-python",
   "name": "python",
   "nbconvert_exporter": "python",
   "pygments_lexer": "ipython3",
   "version": "3.6.9"
  }
 },
 "nbformat": 4,
 "nbformat_minor": 2
}
