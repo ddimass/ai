{
 "cells": [
  {
   "cell_type": "code",
   "execution_count": 15,
   "metadata": {},
   "outputs": [
    {
     "name": "stderr",
     "output_type": "stream",
     "text": [
      "Using TensorFlow backend.\n",
      "C:\\Users\\a.lunev\\Anaconda3\\envs\\ML_GPU\\lib\\site-packages\\sklearn\\externals\\joblib\\__init__.py:15: DeprecationWarning: sklearn.externals.joblib is deprecated in 0.21 and will be removed in 0.23. Please import this functionality directly from joblib, which can be installed with: pip install joblib. If this warning is raised when loading pickled models, you may need to re-serialize those models with scikit-learn 0.21+.\n",
      "  warnings.warn(msg, category=DeprecationWarning)\n"
     ]
    }
   ],
   "source": [
    "import os\n",
    "from keras.models import Sequential\n",
    "from keras import layers, regularizers, optimizers\n",
    "from keras.optimizers import RMSprop\n",
    "from keras.utils import to_categorical\n",
    "from keras.callbacks import ModelCheckpoint\n",
    "import requests\n",
    "import json\n",
    "import numpy as np\n",
    "import tensorflow as tf\n",
    "config = tf.ConfigProto()\n",
    "config.gpu_options.allow_growth = True\n",
    "session = tf.Session(config=config)\n",
    "from datetime import datetime\n",
    "from sklearn.preprocessing import MinMaxScaler\n",
    "from sklearn.externals import joblib\n",
    "from keras.preprocessing.sequence import TimeseriesGenerator"
   ]
  },
  {
   "cell_type": "code",
   "execution_count": 64,
   "metadata": {},
   "outputs": [],
   "source": [
    "my_data = np.genfromtxt('e:\\EURUSD-2000-2019.csv', delimiter=',', skip_header=1)\n",
    "#my_data = np.concatenate((bin_days, my_data), axis=1)\n",
    "my_data = np.delete(my_data, 1, 1)\n",
    "#for i, data in enumerate(my_data):\n",
    "#    my_data[i][0] = (datetime.strptime(str(data[0]), \"%Y%m%d.0\")).isoweekday()\n",
    "#my_data = my_data[np.logical_not(my_data[:,0] == 7)]\n",
    "#bin_days = to_categorical(my_data[:,0])\n",
    "my_data = np.delete(my_data, 0, 1)"
   ]
  },
  {
   "cell_type": "code",
   "execution_count": 75,
   "metadata": {},
   "outputs": [
    {
     "name": "stdout",
     "output_type": "stream",
     "text": [
      "[1.12284 1.12313 1.12256 1.12292]\n",
      "(6139978, 4)\n"
     ]
    }
   ],
   "source": [
    "print(my_data[0])\n",
    "print(my_data.shape)"
   ]
  },
  {
   "cell_type": "code",
   "execution_count": 81,
   "metadata": {},
   "outputs": [],
   "source": [
    "my_data_wo_tv = my_data\n",
    "my_data_y = my_data_wo_tv[9:,3]\n",
    "my_data_wo_tv = my_data_wo_tv[:-9,]"
   ]
  },
  {
   "cell_type": "code",
   "execution_count": 82,
   "metadata": {},
   "outputs": [
    {
     "name": "stdout",
     "output_type": "stream",
     "text": [
      "[1.12284 1.12313 1.12256 1.12292]\n",
      "1.12284\n"
     ]
    }
   ],
   "source": [
    "print(my_data_wo_tv[0])\n",
    "print(my_data_y[0])"
   ]
  },
  {
   "cell_type": "code",
   "execution_count": 88,
   "metadata": {},
   "outputs": [],
   "source": [
    "n_input = 50\n",
    "batch_size = 2\n",
    "generator = TimeseriesGenerator(my_data_wo_tv, my_data_y, length=n_input, sampling_rate=2, batch_size=batch_size)"
   ]
  },
  {
   "cell_type": "code",
   "execution_count": 89,
   "metadata": {},
   "outputs": [
    {
     "name": "stdout",
     "output_type": "stream",
     "text": [
      "Samples: 3069960\n"
     ]
    }
   ],
   "source": [
    "print('Samples: %d' % len(generator))"
   ]
  },
  {
   "cell_type": "code",
   "execution_count": 90,
   "metadata": {},
   "outputs": [
    {
     "name": "stdout",
     "output_type": "stream",
     "text": [
      "(2, 25, 4) (2,)\n",
      "[[[1.12284 1.12313 1.12256 1.12292]\n",
      "  [1.12298 1.12303 1.12288 1.12299]\n",
      "  [1.12302 1.12306 1.12293 1.12294]\n",
      "  [1.12299 1.1231  1.12297 1.12305]\n",
      "  [1.12287 1.12302 1.12281 1.12294]\n",
      "  [1.12314 1.1232  1.12306 1.12306]\n",
      "  [1.12286 1.12294 1.12282 1.1229 ]\n",
      "  [1.12329 1.12338 1.12305 1.12312]\n",
      "  [1.12302 1.12306 1.12289 1.12297]\n",
      "  [1.12302 1.12302 1.12285 1.12285]\n",
      "  [1.12288 1.12288 1.1228  1.1228 ]\n",
      "  [1.12306 1.12307 1.12297 1.12297]\n",
      "  [1.12292 1.1231  1.12291 1.12304]\n",
      "  [1.12309 1.1231  1.12284 1.12284]\n",
      "  [1.12305 1.12312 1.123   1.12307]\n",
      "  [1.12287 1.12303 1.12287 1.12301]\n",
      "  [1.12303 1.12307 1.12292 1.12298]\n",
      "  [1.12292 1.12302 1.12289 1.12298]\n",
      "  [1.12301 1.12304 1.12286 1.12296]\n",
      "  [1.12288 1.12302 1.12288 1.12293]\n",
      "  [1.12286 1.12309 1.12286 1.12304]\n",
      "  [1.12294 1.12313 1.12293 1.12299]\n",
      "  [1.12299 1.12302 1.1228  1.12295]\n",
      "  [1.12288 1.12301 1.12288 1.12293]\n",
      "  [1.12278 1.12299 1.12273 1.12292]]\n",
      "\n",
      " [[1.12295 1.12295 1.12286 1.1229 ]\n",
      "  [1.12297 1.12303 1.1229  1.12301]\n",
      "  [1.12304 1.1231  1.12296 1.12303]\n",
      "  [1.12296 1.12304 1.12276 1.12284]\n",
      "  [1.12297 1.12305 1.12284 1.12284]\n",
      "  [1.12307 1.12314 1.12293 1.12298]\n",
      "  [1.12293 1.12317 1.12287 1.12308]\n",
      "  [1.12312 1.12312 1.123   1.123  ]\n",
      "  [1.12298 1.12306 1.12293 1.12293]\n",
      "  [1.12291 1.12296 1.12279 1.12285]\n",
      "  [1.12279 1.12311 1.12242 1.12311]\n",
      "  [1.12296 1.12305 1.12294 1.12305]\n",
      "  [1.12304 1.12319 1.12299 1.12312]\n",
      "  [1.12299 1.12308 1.12297 1.12304]\n",
      "  [1.12303 1.1231  1.12294 1.12297]\n",
      "  [1.123   1.123   1.12281 1.12281]\n",
      "  [1.12294 1.12297 1.12285 1.12292]\n",
      "  [1.12297 1.12304 1.12288 1.12296]\n",
      "  [1.12302 1.12309 1.12292 1.12292]\n",
      "  [1.12296 1.12296 1.12287 1.12287]\n",
      "  [1.123   1.12306 1.12286 1.12299]\n",
      "  [1.12295 1.12305 1.12288 1.12305]\n",
      "  [1.12301 1.12307 1.12289 1.12302]\n",
      "  [1.1228  1.1229  1.12264 1.12274]\n",
      "  [1.12298 1.12303 1.12287 1.12293]]] => [1.12305 1.12284]\n"
     ]
    }
   ],
   "source": [
    "for i in range(len(generator)):\n",
    "    x, y = generator[i]\n",
    "    print(x.shape, y.shape)\n",
    "    print('%s => %s' % (x, y))\n",
    "    break"
   ]
  },
  {
   "cell_type": "code",
   "execution_count": null,
   "metadata": {},
   "outputs": [],
   "source": []
  }
 ],
 "metadata": {
  "kernelspec": {
   "display_name": "Python 3",
   "language": "python",
   "name": "python3"
  },
  "language_info": {
   "codemirror_mode": {
    "name": "ipython",
    "version": 3
   },
   "file_extension": ".py",
   "mimetype": "text/x-python",
   "name": "python",
   "nbconvert_exporter": "python",
   "pygments_lexer": "ipython3",
   "version": "3.6.9"
  }
 },
 "nbformat": 4,
 "nbformat_minor": 2
}
