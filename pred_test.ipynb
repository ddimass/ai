{
 "cells": [
  {
   "cell_type": "code",
   "execution_count": 78,
   "metadata": {},
   "outputs": [],
   "source": [
    "import os\n",
    "import IPython\n",
    "import time\n",
    "from keras.models import Sequential\n",
    "from keras import layers, regularizers, optimizers\n",
    "from keras.optimizers import RMSprop\n",
    "from keras.utils import to_categorical\n",
    "from keras.callbacks import ModelCheckpoint\n",
    "import requests\n",
    "import json\n",
    "import numpy as np\n",
    "import tensorflow as tf\n",
    "config = tf.ConfigProto()\n",
    "config.gpu_options.allow_growth = True\n",
    "session = tf.Session(config=config)\n",
    "from datetime import datetime, timedelta\n",
    "from sklearn.preprocessing import MinMaxScaler\n",
    "from sklearn.externals import joblib \n",
    "import datetime"
   ]
  },
  {
   "cell_type": "code",
   "execution_count": 96,
   "metadata": {},
   "outputs": [
    {
     "name": "stdout",
     "output_type": "stream",
     "text": [
      "_________________________________________________________________\n",
      "Layer (type)                 Output Shape              Param #   \n",
      "=================================================================\n",
      "cu_dnngru_4 (CuDNNGRU)       (None, 250)               190500    \n",
      "_________________________________________________________________\n",
      "activation_7 (Activation)    (None, 250)               0         \n",
      "_________________________________________________________________\n",
      "dropout_4 (Dropout)          (None, 250)               0         \n",
      "_________________________________________________________________\n",
      "dense_4 (Dense)              (None, 1)                 251       \n",
      "_________________________________________________________________\n",
      "activation_8 (Activation)    (None, 1)                 0         \n",
      "=================================================================\n",
      "Total params: 190,751\n",
      "Trainable params: 190,751\n",
      "Non-trainable params: 0\n",
      "_________________________________________________________________\n"
     ]
    }
   ],
   "source": [
    "model = Sequential()\n",
    "model.add(layers.CuDNNGRU(\n",
    "    units=250, \n",
    "    input_shape=(None, 2),\n",
    "    return_sequences=False,\n",
    "    kernel_regularizer=None,\n",
    "    recurrent_regularizer=None,\n",
    "    bias_regularizer=None,\n",
    "    activity_regularizer=None))\n",
    "model.add(layers.Activation('tanh'))\n",
    "model.add(layers.Dropout(0.2))\n",
    "model.add(layers.Dense(1))\n",
    "model.add(layers.Activation('sigmoid'))\n",
    "sgd = optimizers.Adam(lr=0.01, beta_1=0.9, beta_2=0.999, amsgrad=True)\n",
    "model.compile(loss='binary_crossentropy', optimizer=sgd, metrics=['accuracy'])\n",
    "model.load_weights('best-weights.hdf5')\n",
    "model.summary()"
   ]
  },
  {
   "cell_type": "code",
   "execution_count": 97,
   "metadata": {},
   "outputs": [],
   "source": [
    "def getdata():\n",
    "    auth_url = 'http://185.49.144.175/api/token/'\n",
    "    bar_url = 'http://185.49.144.175/api/bars/?timeframe=1&for_predict=1'\n",
    "    headers = {'Content-type': 'application/json', 'Content-Encoding': 'utf-8'}\n",
    "    data = {\"username\": \"lim\",\"password\": \"Serialnomberr3\"}\n",
    "    answer = requests.post(auth_url, data=json.dumps(data), headers=headers)\n",
    "    response = answer.json()\n",
    "    token = response['access']\n",
    "    headers = {'Authorization': 'Bearer ' + token}\n",
    "    answer = requests.get(bar_url, headers=headers)\n",
    "    response = answer.json()\n",
    "    pred_data = np.zeros((30, 2))\n",
    "    for i, bar in enumerate(response):\n",
    "        pred_data[i][0] = response[29-i]['low'] - response[29-i]['high']\n",
    "        pred_data[i][1] = response[29-i]['close']\n",
    "    return pred_data"
   ]
  },
  {
   "cell_type": "code",
   "execution_count": 100,
   "metadata": {},
   "outputs": [
    {
     "data": {
      "image/png": "[encoded data removed]",
      "text/plain": [
       "<Figure size 1368x360 with 1 Axes>"
      ]
     },
     "metadata": {
      "needs_background": "light"
     },
     "output_type": "display_data"
    },
    {
     "name": "stdout",
     "output_type": "stream",
     "text": [
      "13:29 0.48969412\n",
      "13:30 0.48969412\n",
      "13:31 0.48969406\n",
      "13:32 0.4896935\n",
      "13:33 0.48969358\n",
      "13:34 0.48969427\n",
      "13:35 0.48969406\n",
      "13:36 0.4896933\n",
      "13:37 0.4896929\n",
      "13:38 0.48969412\n",
      "13:39 0.48969418\n",
      "13:40 0.48969427\n",
      "13:41 0.4896937\n",
      "13:42 0.48969418\n",
      "13:43 0.48969418\n",
      "13:44 0.4896944\n",
      "13:45 0.48969507\n",
      "13:47 0.48969463\n",
      "13:48 0.48969406\n",
      "13:49 0.48969418\n",
      "13:50 0.4896945\n",
      "13:51 0.48969457\n",
      "13:52 0.4896944\n",
      "13:53 0.48969492\n",
      "13:54 0.48969474\n",
      "13:55 0.4896948\n",
      "13:56 0.48969406\n",
      "13:57 0.48969418\n",
      "13:58 0.48969427\n",
      "13:59 0.48969418\n",
      "14:00 0.48969314\n",
      "14:01 0.48969427\n",
      "14:02 0.48969406\n",
      "14:03 0.4896929\n",
      "14:04 0.48969382\n",
      "14:05 0.48969427\n",
      "14:06 0.48969302\n",
      "14:07 0.48969314\n",
      "14:08 0.48969302\n",
      "14:09 0.48969218\n",
      "14:10 0.48969275\n",
      "14:11 0.48969308\n",
      "14:12 0.48969144\n",
      "14:13 0.48969206\n",
      "14:14 0.48969337\n",
      "14:15 0.48969275\n",
      "14:17 0.4896937\n",
      "14:18 0.48969302\n",
      "14:19 0.48969337\n",
      "14:20 0.4896937\n",
      "14:21 0.48969382\n",
      "14:22 0.48969358\n",
      "14:23 0.48969314\n",
      "14:24 0.4896929\n",
      "14:25 0.4896929\n",
      "14:26 0.4896927\n",
      "14:27 0.48969257\n",
      "14:28 0.4896927\n",
      "14:29 0.489692\n",
      "14:30 0.48969176\n",
      "14:31 0.48969212\n",
      "14:32 0.48969132\n",
      "14:33 0.48969063\n",
      "14:35 0.48969337\n",
      "14:36 0.48969287\n",
      "14:37 0.48969314\n",
      "14:38 0.48969212\n",
      "14:39 0.48969144\n",
      "14:40 0.48969063\n",
      "14:41 0.48968577\n",
      "14:42 0.48968863\n",
      "14:43 0.48969576\n",
      "14:44 0.48969635\n",
      "14:45 0.48969382\n",
      "14:46 0.48969406\n",
      "14:47 0.4896945\n",
      "14:48 0.48969468\n",
      "14:50 0.48969567\n",
      "14:51 0.48969692\n",
      "14:52 0.4896976\n",
      "14:53 0.48969704\n",
      "14:54 0.48969704\n",
      "14:55 0.4896976\n"
     ]
    },
    {
     "ename": "KeyboardInterrupt",
     "evalue": "",
     "output_type": "error",
     "traceback": [
      "\u001b[1;31m---------------------------------------------------------------------------\u001b[0m",
      "\u001b[1;31mKeyboardInterrupt\u001b[0m                         Traceback (most recent call last)",
      "\u001b[1;32m<ipython-input-100-b60c4dbdaf01>\u001b[0m in \u001b[0;36m<module>\u001b[1;34m\u001b[0m\n\u001b[0;32m     18\u001b[0m     \u001b[1;32mfor\u001b[0m \u001b[0mi\u001b[0m\u001b[1;33m,\u001b[0m \u001b[0mscore1\u001b[0m \u001b[1;32min\u001b[0m \u001b[0menumerate\u001b[0m\u001b[1;33m(\u001b[0m\u001b[0mscores\u001b[0m\u001b[1;33m)\u001b[0m\u001b[1;33m:\u001b[0m\u001b[1;33m\u001b[0m\u001b[1;33m\u001b[0m\u001b[0m\n\u001b[0;32m     19\u001b[0m         \u001b[0mprint\u001b[0m\u001b[1;33m(\u001b[0m\u001b[0mtimes\u001b[0m\u001b[1;33m[\u001b[0m\u001b[0mi\u001b[0m\u001b[1;33m]\u001b[0m\u001b[1;33m,\u001b[0m \u001b[0mscore1\u001b[0m\u001b[1;33m)\u001b[0m\u001b[1;33m\u001b[0m\u001b[1;33m\u001b[0m\u001b[0m\n\u001b[1;32m---> 20\u001b[1;33m     \u001b[0mtime\u001b[0m\u001b[1;33m.\u001b[0m\u001b[0msleep\u001b[0m\u001b[1;33m(\u001b[0m\u001b[1;36m60\u001b[0m\u001b[1;33m)\u001b[0m\u001b[1;33m\u001b[0m\u001b[1;33m\u001b[0m\u001b[0m\n\u001b[0m\u001b[0;32m     21\u001b[0m     \u001b[0mIPython\u001b[0m\u001b[1;33m.\u001b[0m\u001b[0mdisplay\u001b[0m\u001b[1;33m.\u001b[0m\u001b[0mclear_output\u001b[0m\u001b[1;33m(\u001b[0m\u001b[1;33m)\u001b[0m\u001b[1;33m\u001b[0m\u001b[1;33m\u001b[0m\u001b[0m\n",
      "\u001b[1;31mKeyboardInterrupt\u001b[0m: "
     ]
    }
   ],
   "source": [
    "import matplotlib.pyplot as plt\n",
    "scores =[]#[1.1076618, 1.107682, 1.1077012, 1.107741, 1.107768, 1.107778, 1.1077605, 1.1077613, 1.10777, 1.107733, 1.1076846, 1.1076694, 1.1076717, 1.1077365, 1.1078457, 1.1079229, 1.107981, 1.1080071, 1.1080498, 1.1080985, 1.1081505, 1.108185, 1.1081992, 1.1081984, 1.1082242, 1.1082006, 1.1082023]\n",
    "scores_bin =[]\n",
    "times = []#list(range(len(scores)))\n",
    "while 1:\n",
    "    data = getdata()\n",
    "    my_data_shaped = data.reshape(1,30,-1)\n",
    "    score = model.predict(my_data_shaped)\n",
    "    scores_bin.append(int(score[0][0]>0.5))\n",
    "    scores.append(score[0][0])\n",
    "    ti = datetime.datetime.now()+timedelta(minutes=10)\n",
    "    times.append(ti.strftime(\"%H:%M\"))\n",
    "    plt.figure(figsize=(19,5))\n",
    "    plt.scatter(times, scores, c=scores_bin, label='EURUSD')\n",
    "    plt.title('Predicted')\n",
    "    plt.legend()\n",
    "    plt.show()\n",
    "    for i, score1 in enumerate(scores):\n",
    "        print(times[i], score1)\n",
    "    time.sleep(60)\n",
    "    IPython.display.clear_output()"
   ]
  },
  {
   "cell_type": "code",
   "execution_count": null,
   "metadata": {},
   "outputs": [],
   "source": []
  }
 ],
 "metadata": {
  "kernelspec": {
   "display_name": "Python 3",
   "language": "python",
   "name": "python3"
  },
  "language_info": {
   "codemirror_mode": {
    "name": "ipython",
    "version": 3
   },
   "file_extension": ".py",
   "mimetype": "text/x-python",
   "name": "python",
   "nbconvert_exporter": "python",
   "pygments_lexer": "ipython3",
   "version": "3.6.9"
  }
 },
 "nbformat": 4,
 "nbformat_minor": 2
}
