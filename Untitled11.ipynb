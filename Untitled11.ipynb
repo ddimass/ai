{
 "cells": [
  {
   "cell_type": "code",
   "execution_count": 1,
   "metadata": {},
   "outputs": [
    {
     "name": "stderr",
     "output_type": "stream",
     "text": [
      "Using TensorFlow backend.\n"
     ]
    }
   ],
   "source": [
    "import os\n",
    "import tensorflow as tf\n",
    "from keras import backend as K\n",
    "num_cores = 4\n",
    "num_CPU = 1\n",
    "num_GPU = 0\n",
    "config = tf.ConfigProto(intra_op_parallelism_threads=num_cores,\n",
    "                        inter_op_parallelism_threads=num_cores, \n",
    "                        allow_soft_placement=True,\n",
    "                        device_count = {'CPU' : num_CPU,\n",
    "                                        'GPU' : num_GPU}\n",
    "                       )\n",
    "\n",
    "session = tf.Session(config=config)\n",
    "K.set_session(session)\n",
    "from keras.models import Sequential\n",
    "from keras import layers\n",
    "from keras.optimizers import RMSprop\n",
    "from keras import regularizers\n",
    "from keras.utils import to_categorical\n",
    "from keras.callbacks import ModelCheckpoint\n",
    "from keras import regularizers\n",
    "import requests\n",
    "import json\n",
    "import numpy as np\n",
    "from datetime import datetime\n"
   ]
  },
  {
   "cell_type": "code",
   "execution_count": 2,
   "metadata": {},
   "outputs": [],
   "source": [
    "### Init variables\n",
    "first_bars = 30\n",
    "delay = 30"
   ]
  },
  {
   "cell_type": "code",
   "execution_count": 3,
   "metadata": {},
   "outputs": [],
   "source": [
    "#### Read from CSV\n",
    "my_data = np.genfromtxt('e:\\EURUSD.csv', delimiter=',', skip_header=1)\n",
    "my_data = np.delete(my_data, 1, 1)\n",
    "for i, data in enumerate(my_data):\n",
    "    my_data[i][0] = (datetime.strptime(str(data[0]), \"%Y%m%d.0\")).isoweekday()\n",
    "my_data = my_data[np.logical_not(my_data[:,0] == 7)]\n",
    "#bin_days = to_categorical(my_data[:,0])\n",
    "#my_data = np.delete(my_data, 0, 1)\n",
    "#my_data = np.concatenate((bin_days, my_data), axis=1)"
   ]
  },
  {
   "cell_type": "code",
   "execution_count": 4,
   "metadata": {},
   "outputs": [],
   "source": [
    "min = my_data[:, 5].min(axis=0)\n",
    "max = my_data[:, 5].max(axis=0)\n",
    "my_data[:, 5] = (my_data[:, 5] - min) / (max - min)\n",
    "count = (my_data.shape[0] // (first_bars + delay)) * (first_bars + delay)\n",
    "data_ = my_data[:count,:]\n",
    "data = data_.reshape(-1, 6 * (first_bars + delay))\n",
    "for i in range(first_bars+delay-1):\n",
    "    data = np.delete(data, ((i+1)*6)-i, 1)\n",
    "bin_days = to_categorical(data[:,0])\n",
    "data = np.delete(data, 0, 1)\n",
    "data = np.concatenate((bin_days, data), axis=1)\n",
    "y = data[:,6] < data[:,304]\n",
    "y = y.astype(float)"
   ]
  },
  {
   "cell_type": "code",
   "execution_count": 5,
   "metadata": {},
   "outputs": [
    {
     "data": {
      "text/plain": [
       "array([1., 0., 0., ..., 0., 0., 1.])"
      ]
     },
     "execution_count": 5,
     "metadata": {},
     "output_type": "execute_result"
    }
   ],
   "source": [
    "y"
   ]
  },
  {
   "cell_type": "code",
   "execution_count": 6,
   "metadata": {},
   "outputs": [],
   "source": [
    "data_ = np.hsplit(data, np.array([6+first_bars*5,]))\n",
    "data_ = data_[0]\n",
    "fit_data = data_[:25000,]\n",
    "fit_y = y[:25000]\n",
    "test_data = data_[25000:,]\n",
    "test_y = y[25000:]"
   ]
  },
  {
   "cell_type": "code",
   "execution_count": 7,
   "metadata": {},
   "outputs": [
    {
     "data": {
      "text/plain": [
       "(25000, 156)"
      ]
     },
     "execution_count": 7,
     "metadata": {},
     "output_type": "execute_result"
    }
   ],
   "source": [
    "fit_data.shape"
   ]
  },
  {
   "cell_type": "code",
   "execution_count": 8,
   "metadata": {},
   "outputs": [
    {
     "data": {
      "text/plain": [
       "(25000,)"
      ]
     },
     "execution_count": 8,
     "metadata": {},
     "output_type": "execute_result"
    }
   ],
   "source": [
    "fit_y.shape"
   ]
  },
  {
   "cell_type": "code",
   "execution_count": 9,
   "metadata": {},
   "outputs": [],
   "source": [
    "filepath=\"dense-weights.best.hdf5\"\n",
    "checkpoint = ModelCheckpoint(filepath, monitor='val_acc', verbose=1, save_best_only=True, mode='max')"
   ]
  },
  {
   "cell_type": "code",
   "execution_count": 10,
   "metadata": {},
   "outputs": [
    {
     "name": "stdout",
     "output_type": "stream",
     "text": [
      "WARNING:tensorflow:From C:\\Users\\a.lunev\\Anaconda3\\envs\\ML_GPU\\lib\\site-packages\\keras\\backend\\tensorflow_backend.py:74: The name tf.get_default_graph is deprecated. Please use tf.compat.v1.get_default_graph instead.\n",
      "\n",
      "WARNING:tensorflow:From C:\\Users\\a.lunev\\Anaconda3\\envs\\ML_GPU\\lib\\site-packages\\keras\\backend\\tensorflow_backend.py:517: The name tf.placeholder is deprecated. Please use tf.compat.v1.placeholder instead.\n",
      "\n",
      "WARNING:tensorflow:From C:\\Users\\a.lunev\\Anaconda3\\envs\\ML_GPU\\lib\\site-packages\\keras\\backend\\tensorflow_backend.py:4138: The name tf.random_uniform is deprecated. Please use tf.random.uniform instead.\n",
      "\n",
      "WARNING:tensorflow:From C:\\Users\\a.lunev\\Anaconda3\\envs\\ML_GPU\\lib\\site-packages\\keras\\optimizers.py:790: The name tf.train.Optimizer is deprecated. Please use tf.compat.v1.train.Optimizer instead.\n",
      "\n",
      "WARNING:tensorflow:From C:\\Users\\a.lunev\\Anaconda3\\envs\\ML_GPU\\lib\\site-packages\\keras\\backend\\tensorflow_backend.py:3376: The name tf.log is deprecated. Please use tf.math.log instead.\n",
      "\n",
      "WARNING:tensorflow:From C:\\Users\\a.lunev\\Anaconda3\\envs\\ML_GPU\\lib\\site-packages\\tensorflow\\python\\ops\\nn_impl.py:180: add_dispatch_support.<locals>.wrapper (from tensorflow.python.ops.array_ops) is deprecated and will be removed in a future version.\n",
      "Instructions for updating:\n",
      "Use tf.where in 2.0, which has the same broadcast rule as np.where\n",
      "WARNING:tensorflow:From C:\\Users\\a.lunev\\Anaconda3\\envs\\ML_GPU\\lib\\site-packages\\keras\\backend\\tensorflow_backend.py:986: The name tf.assign_add is deprecated. Please use tf.compat.v1.assign_add instead.\n",
      "\n",
      "Train on 20000 samples, validate on 5000 samples\n",
      "Epoch 1/20\n",
      "20000/20000 [==============================] - 2s 95us/step - loss: 0.7031 - acc: 0.4993 - val_loss: 0.6932 - val_acc: 0.4934\n",
      "\n",
      "Epoch 00001: val_acc improved from -inf to 0.49340, saving model to dense-weights.best.hdf5\n",
      "Epoch 2/20\n",
      "20000/20000 [==============================] - 2s 83us/step - loss: 0.6935 - acc: 0.4934 - val_loss: 0.6931 - val_acc: 0.5066\n",
      "\n",
      "Epoch 00002: val_acc improved from 0.49340 to 0.50660, saving model to dense-weights.best.hdf5\n",
      "Epoch 3/20\n",
      "20000/20000 [==============================] - 2s 85us/step - loss: 0.6934 - acc: 0.4990 - val_loss: 0.6935 - val_acc: 0.4934\n",
      "\n",
      "Epoch 00003: val_acc did not improve from 0.50660\n",
      "Epoch 4/20\n",
      "20000/20000 [==============================] - 2s 83us/step - loss: 0.6934 - acc: 0.4995 - val_loss: 0.6931 - val_acc: 0.5066\n",
      "\n",
      "Epoch 00004: val_acc did not improve from 0.50660\n",
      "Epoch 5/20\n",
      "20000/20000 [==============================] - 2s 85us/step - loss: 0.6934 - acc: 0.4989 - val_loss: 0.6934 - val_acc: 0.4934\n",
      "\n",
      "Epoch 00005: val_acc did not improve from 0.50660\n",
      "Epoch 6/20\n",
      "20000/20000 [==============================] - 2s 83us/step - loss: 0.6933 - acc: 0.5030 - val_loss: 0.6933 - val_acc: 0.4934\n",
      "\n",
      "Epoch 00006: val_acc did not improve from 0.50660\n",
      "Epoch 7/20\n",
      "20000/20000 [==============================] - 2s 88us/step - loss: 0.6934 - acc: 0.5000 - val_loss: 0.6932 - val_acc: 0.4934\n",
      "\n",
      "Epoch 00007: val_acc did not improve from 0.50660\n",
      "Epoch 8/20\n",
      "20000/20000 [==============================] - 2s 102us/step - loss: 0.6934 - acc: 0.4995 - val_loss: 0.6933 - val_acc: 0.5066\n",
      "\n",
      "Epoch 00008: val_acc did not improve from 0.50660\n",
      "Epoch 9/20\n",
      "20000/20000 [==============================] - 2s 103us/step - loss: 0.6934 - acc: 0.5016 - val_loss: 0.6932 - val_acc: 0.4934\n",
      "\n",
      "Epoch 00009: val_acc did not improve from 0.50660\n",
      "Epoch 10/20\n",
      "20000/20000 [==============================] - 2s 85us/step - loss: 0.6934 - acc: 0.5005 - val_loss: 0.6931 - val_acc: 0.5066\n",
      "\n",
      "Epoch 00010: val_acc did not improve from 0.50660\n",
      "Epoch 11/20\n",
      "20000/20000 [==============================] - 2s 83us/step - loss: 0.6934 - acc: 0.4970 - val_loss: 0.6931 - val_acc: 0.5066\n",
      "\n",
      "Epoch 00011: val_acc did not improve from 0.50660\n",
      "Epoch 12/20\n",
      "20000/20000 [==============================] - 2s 83us/step - loss: 0.6933 - acc: 0.5045 - val_loss: 0.6932 - val_acc: 0.4934\n",
      "\n",
      "Epoch 00012: val_acc did not improve from 0.50660\n",
      "Epoch 13/20\n",
      "20000/20000 [==============================] - 2s 88us/step - loss: 0.6933 - acc: 0.5039 - val_loss: 0.6931 - val_acc: 0.5066\n",
      "\n",
      "Epoch 00013: val_acc did not improve from 0.50660\n",
      "Epoch 14/20\n",
      "20000/20000 [==============================] - 2s 103us/step - loss: 0.6933 - acc: 0.5031 - val_loss: 0.6931 - val_acc: 0.5066\n",
      "\n",
      "Epoch 00014: val_acc did not improve from 0.50660\n",
      "Epoch 15/20\n",
      "20000/20000 [==============================] - 2s 101us/step - loss: 0.6934 - acc: 0.4973 - val_loss: 0.6934 - val_acc: 0.4934\n",
      "\n",
      "Epoch 00015: val_acc did not improve from 0.50660\n",
      "Epoch 16/20\n",
      "20000/20000 [==============================] - 2s 107us/step - loss: 0.6933 - acc: 0.5041 - val_loss: 0.6935 - val_acc: 0.4934\n",
      "\n",
      "Epoch 00016: val_acc did not improve from 0.50660\n",
      "Epoch 17/20\n",
      "20000/20000 [==============================] - 2s 112us/step - loss: 0.6934 - acc: 0.5021 - val_loss: 0.6931 - val_acc: 0.5066\n",
      "\n",
      "Epoch 00017: val_acc did not improve from 0.50660\n",
      "Epoch 18/20\n",
      "20000/20000 [==============================] - 2s 89us/step - loss: 0.6934 - acc: 0.4966 - val_loss: 0.6934 - val_acc: 0.4934\n",
      "\n",
      "Epoch 00018: val_acc did not improve from 0.50660\n",
      "Epoch 19/20\n",
      "20000/20000 [==============================] - 2s 84us/step - loss: 0.6934 - acc: 0.4995 - val_loss: 0.6931 - val_acc: 0.5066\n",
      "\n",
      "Epoch 00019: val_acc did not improve from 0.50660\n",
      "Epoch 20/20\n",
      "20000/20000 [==============================] - 2s 85us/step - loss: 0.6934 - acc: 0.4989 - val_loss: 0.6939 - val_acc: 0.4934\n",
      "\n",
      "Epoch 00020: val_acc did not improve from 0.50660\n"
     ]
    }
   ],
   "source": [
    "model = Sequential()\n",
    "model.add(layers.Dense(156, activation='relu', input_shape=(156,)))\n",
    "model.add(layers.Dense(60, activation='relu'))\n",
    "model.add(layers.Dense(16, activation='relu'))\n",
    "model.add(layers.Dense(1, activation='sigmoid'))\n",
    "rms = RMSprop(lr=0.01)\n",
    "model.compile(optimizer=rms, loss='binary_crossentropy', metrics=['acc'])\n",
    "history = model.fit(fit_data, fit_y, epochs=20, callbacks=[checkpoint], validation_split=0.2)\n"
   ]
  },
  {
   "cell_type": "code",
   "execution_count": 12,
   "metadata": {},
   "outputs": [
    {
     "data": {
      "image/png": "[encoded data removed]",
      "text/plain": [
       "<Figure size 432x288 with 1 Axes>"
      ]
     },
     "metadata": {
      "needs_background": "light"
     },
     "output_type": "display_data"
    }
   ],
   "source": [
    "import matplotlib.pyplot as plt\n",
    "loss = history.history['loss']\n",
    "val_loss = history.history['val_loss']\n",
    "epochs = range(1, len(loss) + 1)\n",
    "plt.figure()\n",
    "plt.plot(epochs, loss, 'r', label='Training loss')\n",
    "plt.plot(epochs, val_loss, 'b', label='Validation loss')\n",
    "plt.title('Training and validation loss')\n",
    "plt.legend()\n",
    "plt.show()"
   ]
  },
  {
   "cell_type": "code",
   "execution_count": 21,
   "metadata": {},
   "outputs": [
    {
     "data": {
      "text/plain": [
       "(4, 4)"
      ]
     },
     "execution_count": 21,
     "metadata": {},
     "output_type": "execute_result"
    }
   ],
   "source": [
    "x.shape"
   ]
  },
  {
   "cell_type": "code",
   "execution_count": null,
   "metadata": {},
   "outputs": [],
   "source": []
  }
 ],
 "metadata": {
  "kernelspec": {
   "display_name": "Python 3",
   "language": "python",
   "name": "python3"
  },
  "language_info": {
   "codemirror_mode": {
    "name": "ipython",
    "version": 3
   },
   "file_extension": ".py",
   "mimetype": "text/x-python",
   "name": "python",
   "nbconvert_exporter": "python",
   "pygments_lexer": "ipython3",
   "version": "3.6.9"
  }
 },
 "nbformat": 4,
 "nbformat_minor": 2
}
